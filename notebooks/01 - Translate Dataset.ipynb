{
  "nbformat": 4,
  "nbformat_minor": 0,
  "metadata": {
    "colab": {
      "provenance": []
    },
    "kernelspec": {
      "name": "python3",
      "display_name": "Python 3"
    },
    "language_info": {
      "name": "python"
    },
    "gpuClass": "premium"
  },
  "cells": [
    {
      "cell_type": "code",
      "execution_count": null,
      "metadata": {
        "id": "04VzFUzsgve7"
      },
      "outputs": [],
      "source": [
        "!pip install -q datasets\n",
        "!pip install -q sentencepiece\n",
        "!pip install -q transformers\n",
        "!pip install -q sacremoses"
      ]
    },
    {
      "cell_type": "markdown",
      "source": [
        "\n",
        "\n",
        "---\n",
        "\n"
      ],
      "metadata": {
        "id": "qvj6ryTTh1pg"
      }
    },
    {
      "cell_type": "code",
      "source": [
        "import os \n",
        "from itertools import islice\n",
        "\n",
        "import torch\n",
        "\n",
        "from datasets import load_dataset, Dataset\n",
        "from transformers import pipeline\n",
        "from transformers.pipelines.pt_utils import KeyDataset\n",
        "from tqdm.auto import tqdm"
      ],
      "metadata": {
        "id": "tWUQ6ygChviS"
      },
      "execution_count": null,
      "outputs": []
    },
    {
      "cell_type": "code",
      "source": [
        "import torch\n",
        "\n",
        "torch.__version__"
      ],
      "metadata": {
        "colab": {
          "base_uri": "https://localhost:8080/",
          "height": 35
        },
        "id": "kBXrBnsejZD-",
        "outputId": "e14eb5f0-2f52-4f23-9a8b-fa0ed89e62ae"
      },
      "execution_count": null,
      "outputs": [
        {
          "output_type": "execute_result",
          "data": {
            "text/plain": [
              "'1.13.1+cu116'"
            ],
            "application/vnd.google.colaboratory.intrinsic+json": {
              "type": "string"
            }
          },
          "metadata": {},
          "execution_count": 3
        }
      ]
    },
    {
      "cell_type": "markdown",
      "source": [
        "\n",
        "\n",
        "---\n",
        "\n"
      ],
      "metadata": {
        "id": "Px4BvGXdjbvi"
      }
    },
    {
      "cell_type": "code",
      "source": [
        "model_name=\"Helsinki-NLP/opus-mt-tc-big-en-pt\""
      ],
      "metadata": {
        "id": "7UP2G1cH-1Tl"
      },
      "execution_count": null,
      "outputs": []
    },
    {
      "cell_type": "code",
      "source": [
        "pipe = pipeline(\"translation\", model=model_name, device=0)"
      ],
      "metadata": {
        "id": "be4T-PAyjbHg"
      },
      "execution_count": null,
      "outputs": []
    },
    {
      "cell_type": "markdown",
      "source": [
        "\n",
        "\n",
        "---\n",
        "\n"
      ],
      "metadata": {
        "id": "G9YM4NA2jcpU"
      }
    },
    {
      "cell_type": "code",
      "source": [
        "ds = load_dataset(\"json\", data_files=\"alpaca_data.json\")"
      ],
      "metadata": {
        "id": "fL4WVIpvh_p1"
      },
      "execution_count": null,
      "outputs": []
    },
    {
      "cell_type": "markdown",
      "source": [
        "\n",
        "\n",
        "---\n",
        "\n"
      ],
      "metadata": {
        "id": "TMvxYgQiiiTz"
      }
    },
    {
      "cell_type": "code",
      "source": [
        "items_to_translate = []"
      ],
      "metadata": {
        "id": "zgN4LxW3uRr_"
      },
      "execution_count": null,
      "outputs": []
    },
    {
      "cell_type": "code",
      "source": [
        "for row in tqdm(ds[\"train\"], total=len(ds[\"train\"])):\n",
        "\n",
        "    instruction = f\">>por<< {row['instruction']}\" if row[\"instruction\"] else \"\"\n",
        "    input = f\">>por<< {row['input']}\" if row[\"input\"] else \"\"\n",
        "    output = f\">>por<< {row['output']}\" if row[\"output\"] else \"\"\n",
        "\n",
        "    items_to_translate.append({\"text\": instruction})\n",
        "    items_to_translate.append({\"text\": input})\n",
        "    items_to_translate.append({\"text\": output})"
      ],
      "metadata": {
        "id": "UKXMDi8buUqG"
      },
      "execution_count": null,
      "outputs": []
    },
    {
      "cell_type": "code",
      "source": [
        "ds_to_translate = Dataset.from_list(items_to_translate)"
      ],
      "metadata": {
        "id": "ZM-n4OaqvOfU"
      },
      "execution_count": null,
      "outputs": []
    },
    {
      "cell_type": "code",
      "source": [
        "ds_to_translate"
      ],
      "metadata": {
        "id": "7h29IFyP3ZT8"
      },
      "execution_count": null,
      "outputs": []
    },
    {
      "cell_type": "markdown",
      "source": [
        "\n",
        "\n",
        "---\n",
        "\n"
      ],
      "metadata": {
        "id": "nrRGv71rvmJA"
      }
    },
    {
      "cell_type": "code",
      "source": [
        "translated_ds = []"
      ],
      "metadata": {
        "id": "bcLt5sqjs8ny"
      },
      "execution_count": null,
      "outputs": []
    },
    {
      "cell_type": "code",
      "source": [
        "for out in tqdm(\n",
        "    pipe(\n",
        "            KeyDataset(ds_to_translate, \"text\"), \n",
        "            batch_size=32,\n",
        "            truncation=True,\n",
        "            max_length=512\n",
        "        ),\n",
        "    total = len(ds_to_translate)\n",
        "    ):\n",
        "    translated_ds.extend(out)"
      ],
      "metadata": {
        "id": "U1XWbFx_nJCD"
      },
      "execution_count": null,
      "outputs": []
    },
    {
      "cell_type": "code",
      "source": [
        "len(translated_ds)"
      ],
      "metadata": {
        "id": "P-UTc7qdvrbg"
      },
      "execution_count": null,
      "outputs": []
    },
    {
      "cell_type": "code",
      "source": [
        "translated_ds = Dataset.from_list(translated_ds)"
      ],
      "metadata": {
        "id": "WNA1prRGDx7Q"
      },
      "execution_count": null,
      "outputs": []
    },
    {
      "cell_type": "markdown",
      "source": [
        "\n",
        "\n",
        "---\n",
        "\n"
      ],
      "metadata": {
        "id": "vPC6S8BGqv-U"
      }
    },
    {
      "cell_type": "code",
      "source": [
        "def batched(iterable, n):\n",
        "    if n < 1:\n",
        "        raise ValueError('n must be at least one')\n",
        "    it = iter(iterable)\n",
        "    while (batch := tuple(islice(it, n))):\n",
        "        yield batch"
      ],
      "metadata": {
        "id": "6cIxIbxk_AHX"
      },
      "execution_count": null,
      "outputs": []
    },
    {
      "cell_type": "code",
      "source": [
        "ds_data = []"
      ],
      "metadata": {
        "id": "qYXCG7aerKjP"
      },
      "execution_count": null,
      "outputs": []
    },
    {
      "cell_type": "code",
      "source": [
        "for batch in batched(ds, 3):\n",
        "    ds_data.append(\n",
        "        {\n",
        "            \"instruction\": batch[0][\"translation_text\"],\n",
        "            \"input\": batch[1][\"translation_text\"],\n",
        "            \"output\": batch[2][\"translation_text\"],\n",
        "        }\n",
        "    )"
      ],
      "metadata": {
        "id": "EtBRSXcFrNNw"
      },
      "execution_count": null,
      "outputs": []
    },
    {
      "cell_type": "code",
      "source": [
        "ds = Dataset.from_list(ds_data)"
      ],
      "metadata": {
        "id": "wT6jJAxqrUjm"
      },
      "execution_count": null,
      "outputs": []
    },
    {
      "cell_type": "code",
      "source": [
        "ds.push_to_hub(\"user/alpaca-data-pt-br\")"
      ],
      "metadata": {
        "id": "RQ4s4Txdrc2b"
      },
      "execution_count": null,
      "outputs": []
    }
  ]
}